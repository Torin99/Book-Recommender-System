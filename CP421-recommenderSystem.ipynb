{
 "cells": [
  {
   "cell_type": "markdown",
   "id": "ecbf00d2",
   "metadata": {},
   "source": [
    "# <div align=\"center\">Book Reccomender System</div>\n",
    "## <div align=\"center\">CP421 Final Project: Data Mining</div>\n",
    "### <div align=\"center\">Group x</div>\n",
    "#### <div align=\"center\">Due on 06-Dec-2023 at 11:59 PM</div>"
   ]
  },
  {
   "cell_type": "markdown",
   "id": "c52edb19",
   "metadata": {},
   "source": [
    "Imports:"
   ]
  },
  {
   "cell_type": "code",
   "execution_count": 7,
   "id": "18f51c49",
   "metadata": {},
   "outputs": [],
   "source": [
    "import gym\n",
    "import csv\n",
    "import numpy as np\n",
    "import pandas as pd"
   ]
  },
  {
   "cell_type": "markdown",
   "id": "451baa83",
   "metadata": {},
   "source": [
    "## Load Dataset"
   ]
  },
  {
   "cell_type": "code",
   "execution_count": 8,
   "id": "230fbeec",
   "metadata": {},
   "outputs": [
    {
     "name": "stderr",
     "output_type": "stream",
     "text": [
      "C:\\Users\\twbm\\AppData\\Local\\Temp\\ipykernel_17148\\4153980244.py:6: DtypeWarning: Columns (3) have mixed types. Specify dtype option on import or set low_memory=False.\n",
      "  booksData = pd.read_csv(\"data/\"+file_paths[1], quoting=csv.QUOTE_MINIMAL, quotechar='\"')\n"
     ]
    },
    {
     "name": "stdout",
     "output_type": "stream",
     "text": [
      "Minimum User-ID: 1\n",
      "Maximum User-ID: 278858\n",
      "Minimum User-ID: 2\n",
      "Maximum User-ID: 278854\n",
      "278858\n"
     ]
    }
   ],
   "source": [
    "# Replace 'your_file.csv' with the path to your CSV file\n",
    "file_paths = ['Users.csv','Books.csv','Ratings.csv']\n",
    "\n",
    "# Read CSV file using pandas\n",
    "userData = pd.read_csv(\"data/\"+file_paths[0], quoting=csv.QUOTE_MINIMAL, quotechar='\"')\n",
    "booksData = pd.read_csv(\"data/\"+file_paths[1], quoting=csv.QUOTE_MINIMAL, quotechar='\"')\n",
    "ratingsData = pd.read_csv(\"data/\"+file_paths[2], quoting=csv.QUOTE_MINIMAL, quotechar='\"')\n",
    "\n",
    "# Display the loaded data\n",
    "# print(len(userData))\n",
    "# print(len(booksData))\n",
    "# print(ratingsData)\n",
    "\n",
    "min_user_id = userData['User-ID'].min()\n",
    "max_user_id = userData['User-ID'].max()\n",
    "\n",
    "print(f\"Minimum User-ID: {min_user_id}\")\n",
    "print(f\"Maximum User-ID: {max_user_id}\")\n",
    "\n",
    "min_user_id2 = ratingsData['User-ID'].min()\n",
    "max_user_id2 = ratingsData['User-ID'].max()\n",
    "\n",
    "print(f\"Minimum User-ID: {min_user_id2}\")\n",
    "print(f\"Maximum User-ID: {max_user_id2}\")\n",
    "\n",
    "print(len(userData))\n"
   ]
  },
  {
   "cell_type": "code",
   "execution_count": 17,
   "id": "7627cf17",
   "metadata": {},
   "outputs": [
    {
     "name": "stdout",
     "output_type": "stream",
     "text": [
      "Recommended book: Blindside, Author: Catherine Coulter, ID: 0515137200, Reward: 0, Done: True\n"
     ]
    }
   ],
   "source": [
    "\n",
    "# Create a Gym environment for book recommendations\n",
    "class BookRecommendationEnv(gym.Env):\n",
    "    def __init__(self, userData, booksData, ratingsData):\n",
    "        super(BookRecommendationEnv, self).__init__()\n",
    "        self.users = userData\n",
    "        self.books = booksData\n",
    "        self.ratings = ratingsData\n",
    "        self.user_ids = self.users['User-ID'].unique()\n",
    "        self.book_ids = self.books['ISBN'].unique()\n",
    "        self.book_info = {isbn: (title, author) for isbn, title, author in zip(\n",
    "            self.books['ISBN'], self.books['Book-Title'], self.books['Book-Author'])}\n",
    "        self.action_space = gym.spaces.Discrete(len(self.book_ids))\n",
    "        self.observation_space = gym.spaces.Discrete(len(self.user_ids))\n",
    "        self.current_user = None\n",
    "\n",
    "    def reset(self):\n",
    "        # Reset the environment for a new episode\n",
    "        self.current_user = np.random.choice(self.user_ids)\n",
    "        return self.current_user\n",
    "\n",
    "    def step(self, action):\n",
    "        # Simulate user-book interaction and provide a recommendation\n",
    "        recommended_book = self.book_ids[action]\n",
    "        \n",
    "        # Simulate rating or preference from the user (for illustration purposes)\n",
    "        user_ratings = self.ratings[self.ratings['User-ID'] == self.current_user]\n",
    "        user_books = user_ratings['ISBN'].unique()\n",
    "        \n",
    "        if recommended_book in user_books:\n",
    "            reward = user_ratings[user_ratings['ISBN'] == recommended_book]['Book-Rating'].values[0]\n",
    "        else:\n",
    "            reward = 0  # No interaction, no reward\n",
    "        \n",
    "        done = True  # For simplicity, one recommendation per episode\n",
    "        return recommended_book, reward, done, {}\n",
    "\n",
    "# Create the environment\n",
    "env = BookRecommendationEnv(userData, booksData, ratingsData)\n",
    "\n",
    "# Example usage of the environment\n",
    "obs = env.reset()\n",
    "action = env.action_space.sample()  # Random action for illustration\n",
    "next_obs, reward, done, _ = env.step(action)\n",
    "recommended_book_title, recommended_book_author = env.book_info[next_obs]\n",
    "\n",
    "\n",
    "print(f\"Recommended book: {recommended_book_title}, Author: {recommended_book_author}, ID: {next_obs}, Reward: {reward}, Done: {done}\")\n"
   ]
  },
  {
   "cell_type": "code",
   "execution_count": null,
   "id": "f1bcd980",
   "metadata": {},
   "outputs": [],
   "source": []
  },
  {
   "cell_type": "code",
   "execution_count": null,
   "id": "892ac119",
   "metadata": {},
   "outputs": [],
   "source": []
  }
 ],
 "metadata": {
  "kernelspec": {
   "display_name": "Python 3 (ipykernel)",
   "language": "python",
   "name": "python3"
  },
  "language_info": {
   "codemirror_mode": {
    "name": "ipython",
    "version": 3
   },
   "file_extension": ".py",
   "mimetype": "text/x-python",
   "name": "python",
   "nbconvert_exporter": "python",
   "pygments_lexer": "ipython3",
   "version": "3.11.4"
  }
 },
 "nbformat": 4,
 "nbformat_minor": 5
}
