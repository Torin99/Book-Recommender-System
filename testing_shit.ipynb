{
 "cells": [
  {
   "cell_type": "code",
   "execution_count": null,
   "metadata": {},
   "outputs": [],
   "source": [
    "import csv\n",
    "import numpy as np\n",
    "import pandas as pd\n"
   ]
  },
  {
   "cell_type": "code",
   "execution_count": null,
   "metadata": {},
   "outputs": [],
   "source": [
    "'''\n",
    "The below chunk of code, drops null values from all datasets, turns the year_of_publications col to int64,\n",
    "drops all images and image col from df's, converts all col to string (excluding year_of_pub), drops null values from ratings col \n",
    "'''\n",
    "\n",
    "# Replace 'your_file.csv' with the path to your CSV file\n",
    "file_paths = ['Users.csv', 'Books.csv', 'Ratings.csv']\n",
    "\n",
    "# Load data and drop rows with null values\n",
    "userData = pd.read_csv(\"data/\"+file_paths[0], quoting=csv.QUOTE_MINIMAL, quotechar='\"').dropna()\n",
    "\n",
    "\n",
    "booksData = pd.read_csv(\"data/\"+file_paths[1], quoting=csv.QUOTE_MINIMAL, quotechar='\"', \n",
    "                        converters={'Year-Of-Publication': lambda x: pd.to_numeric(x, errors='coerce')}).dropna()\n",
    "\n",
    "# Drop specified columns\n",
    "columns_to_drop = ['Image-URL-S', 'Image-URL-M', 'Image-URL-L']\n",
    "booksData.drop(columns=columns_to_drop, inplace=True)\n",
    "booksData['Year-Of-Publication'] = booksData['Year-Of-Publication'].astype('Int64')\n",
    "\n",
    "# Select columns to convert to strings (excluding 'Year-Of-Publication')\n",
    "columns_to_convert = [col for col in booksData.columns if col != 'Year-Of-Publication']\n",
    "\n",
    "ratingsData = pd.read_csv(\"data/\"+file_paths[2], quoting=csv.QUOTE_MINIMAL, quotechar='\"').dropna()\n",
    "\n",
    "\n",
    "# Display data  of all columns in booksData\n",
    "print(\"user data\")\n",
    "print(50 * \"=\")\n",
    "print(userData)\n",
    "print(\"book data\")\n",
    "print(50 * \"=\")\n",
    "print(booksData)\n",
    "print(\"rating data\")\n",
    "print(50 * \"=\")\n",
    "print(ratingsData)\n",
    "\n"
   ]
  },
  {
   "cell_type": "code",
   "execution_count": null,
   "metadata": {},
   "outputs": [],
   "source": []
  }
 ],
 "metadata": {
  "language_info": {
   "name": "python"
  }
 },
 "nbformat": 4,
 "nbformat_minor": 2
}
